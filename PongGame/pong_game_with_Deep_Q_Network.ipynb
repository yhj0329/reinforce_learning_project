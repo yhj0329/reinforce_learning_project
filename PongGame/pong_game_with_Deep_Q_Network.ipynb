{
 "cells": [
  {
   "cell_type": "code",
   "execution_count": 1,
   "metadata": {},
   "outputs": [
    {
     "name": "stderr",
     "output_type": "stream",
     "text": [
      "/usr/local/lib/python3.5/dist-packages/h5py/__init__.py:36: FutureWarning: Conversion of the second argument of issubdtype from `float` to `np.floating` is deprecated. In future, it will be treated as `np.float64 == np.dtype(float).type`.\n",
      "  from ._conv import register_converters as _register_converters\n"
     ]
    }
   ],
   "source": [
    "import gym\n",
    "import numpy as np\n",
    "import tensorflow as tf\n",
    "from tensorflow.contrib.layers import flatten, conv2d, fully_connected\n",
    "from collections import deque, Counter\n",
    "import random\n",
    "from datetime import datetime\n",
    "from IPython import display\n",
    "import matplotlib.pyplot as plt\n",
    "%matplotlib inline"
   ]
  },
  {
   "cell_type": "code",
   "execution_count": 2,
   "metadata": {},
   "outputs": [],
   "source": [
    "# 환경 설정\n",
    "env = gym.make(\"Pong-v4\")\n",
    "n_outputs = env.action_space.n"
   ]
  },
  {
   "cell_type": "code",
   "execution_count": 3,
   "metadata": {},
   "outputs": [
    {
     "data": {
      "image/png": "[encoded data removed]",
      "text/plain": [
       "<matplotlib.figure.Figure at 0x7fffa75e5d30>"
      ]
     },
     "metadata": {},
     "output_type": "display_data"
    },
    {
     "data": {
      "image/png": "[encoded data removed]",
      "text/plain": [
       "<matplotlib.figure.Figure at 0x7fffa4cd7f28>"
      ]
     },
     "metadata": {},
     "output_type": "display_data"
    }
   ],
   "source": [
    "# (210, 160) 게임 화면 출력\n",
    "plt.imshow(env.reset())\n",
    "plt.show()\n",
    "# (80, 80) 자른 게임 화면 출력\n",
    "plt.imshow(env.reset()[35:195:2, ::2])\n",
    "plt.show()"
   ]
  },
  {
   "cell_type": "code",
   "execution_count": 4,
   "metadata": {},
   "outputs": [],
   "source": [
    "# 입력 게임 화면을 전처리하기 위해 preprocess_observation 함수 정의\n",
    "# 이미지 크기를 줄이고 이미지를 grey-scale로 변환\n",
    "color = np.array([210,164,74]).mean()\n",
    "\n",
    "def preprocess_observation(obs):\n",
    "    #이미지 자르기 및 크기 조정\n",
    "    img = obs[35:195:2, ::2]\n",
    "    #이미지를 grey-scale로 변환\n",
    "    img = img.mean(axis=2)\n",
    "    #이미지 대비 향상\n",
    "    img[img==color] = 0\n",
    "    #다음으로 이미지를 -1에서 1로 정규화\n",
    "    img = (img - 128) / 128 - 1\n",
    "    \n",
    "    return img.reshape(80,80,1)"
   ]
  },
  {
   "cell_type": "code",
   "execution_count": 5,
   "metadata": {},
   "outputs": [],
   "source": [
    "# Q network를 구축하기 위해 q_network라는 함수를 정의\n",
    "# Q network를 입력하고 해당 state의 모든 action에 대한 Q 값을 얻는다.\n",
    "# fully connected layer가 이어지는 동일한 패딩을 가진 3개의 convolutional layers로 Q 네트워크를 구축\n",
    "tf.reset_default_graph()\n",
    "\n",
    "def q_network(X, name_scope):\n",
    "    #layers 초기화\n",
    "    initializer = tf.contrib.layers.variance_scaling_initializer()\n",
    "    \n",
    "    with tf.variable_scope(name_scope) as scope:\n",
    "        #convolutional layers 초기화\n",
    "        layer_1 = conv2d(X, num_outputs=32, kernel_size=(8,8), stride=4, padding=\"SAME\", weights_initializer=initializer)\n",
    "        tf.summary.histogram('layer_1',layer_1)\n",
    "        \n",
    "        layer_2 = conv2d(layer_1, num_outputs=64, kernel_size=(4,4), stride=2, padding=\"SAME\", weights_initializer=initializer)\n",
    "        tf.summary.histogram('layer_2',layer_2)\n",
    "        \n",
    "        layer_3 = conv2d(layer_2, num_outputs=64, kernel_size=(3,3), stride=1, padding=\"SAME\", weights_initializer=initializer)\n",
    "        tf.summary.histogram('layer_3',layer_3)\n",
    "        \n",
    "        # fully connected layer에 공급하기 전에 layer_3의 결과를 평탄화\n",
    "        flat = flatten(layer_3)\n",
    "        \n",
    "        fc = fully_connected(flat, num_outputs=128, weights_initializer=initializer)\n",
    "        tf.summary.histogram('fc',fc)\n",
    "        \n",
    "        output = fully_connected(fc, num_outputs=n_outputs, activation_fn=None, weights_initializer=initializer)\n",
    "        tf.summary.histogram('output',output)\n",
    "        \n",
    "        #vars는 가중치와 같은 네트워크 매개변수를 저장\n",
    "        vars = {v.name[len(scope.name):]: v for v in tf.get_collection(key=tf.GraphKeys.TRAINABLE_VARIABLES, scope=scope.name)}\n",
    "        return vars, output"
   ]
  },
  {
   "cell_type": "code",
   "execution_count": 6,
   "metadata": {},
   "outputs": [],
   "source": [
    "# 엡실론 그리디 정책을 수행하기 위해 epsilon_greedy라는 함수를 정의\n",
    "# 영원히 탐색하고 싶지 않기 때문에 엡실론의 가치가 시간이 지남에 따라 쇠퇴하는 decaying epsilon greedy 정책을 사용\n",
    "# 즉, 시간이 지남에 따라 우리 정책은 좋은 행동만 이용할 것입니다.\n",
    "eps_min=0.05\n",
    "eps_max=0.8\n",
    "eps_decay_steps = 500000\n",
    "\n",
    "def epsilon_greedy(action, step):\n",
    "    p = np.random.random(1).squeeze()\n",
    "    epsilon = max(eps_min, eps_max - (eps_max-eps_min) * step/eps_decay_steps)\n",
    "    if np.random.rand() < epsilon:\n",
    "        return np.random.randint(n_outputs)\n",
    "    else:\n",
    "        return action"
   ]
  },
  {
   "cell_type": "code",
   "execution_count": 7,
   "metadata": {},
   "outputs": [],
   "source": [
    "# 경험을 보유하는 50000의 경험 버퍼를 초기화\n",
    "# 에이전트의 모든 경험, 즉 (상태, 행동, 보상)을 replay buffer에 저장하고 네트워크 훈련을 위해 이 경험의 미니배치에서 샘플링\n",
    "buffer_len = 20000\n",
    "exp_buffer = deque(maxlen=buffer_len)\n",
    "\n",
    "# 메모리에서 경험을 샘플링하기 위해 sampled_memories라는 함수를 정의\n",
    "# 배치 크기는 메모리에서 샘플링된 경험의 수이다.\n",
    "def sample_memories(batch_size):\n",
    "    perm_batch = np.random.permutation(len(exp_buffer))[:batch_size]\n",
    "    mem = np.array(exp_buffer)[perm_batch]\n",
    "    return mem[:,0],mem[:,1],mem[:,2],mem[:,3],mem[:,4]"
   ]
  },
  {
   "cell_type": "code",
   "execution_count": 8,
   "metadata": {},
   "outputs": [],
   "source": [
    "# hyperparameter 정의\n",
    "num_episodes = 500\n",
    "batch_size = 48\n",
    "input_shape = (None, 80, 80, 1)\n",
    "learning_rate = 0.001\n",
    "X_shape = (None, 80, 80, 1)\n",
    "discount_factor = 0.99\n",
    "\n",
    "global_step = 0\n",
    "copy_steps = 100\n",
    "steps_train = 4\n",
    "start_steps = 1000"
   ]
  },
  {
   "cell_type": "code",
   "execution_count": 9,
   "metadata": {},
   "outputs": [],
   "source": [
    "logdir = 'pong_logs'\n",
    "tf.reset_default_graph()\n",
    "\n",
    "# 입력에 대한 게임 상태를 정의\n",
    "X = tf.placeholder(tf.float32, shape=X_shape)\n",
    "\n",
    "# 학습을 껐다 켰다하기 위해 in_training_model이라는 부울을 정의\n",
    "in_training_mode = tf.placeholder(tf.bool)"
   ]
  },
  {
   "cell_type": "code",
   "execution_count": 10,
   "metadata": {},
   "outputs": [],
   "source": [
    "# 기본 대상 Q network를 구축\n",
    "# 입력 X를 취하고 state의 모든 action에 대해 Q 값을 생성하는 Q network를 구축\n",
    "mainQ, mainQ_outputs = q_network(X, 'mainQ')\n",
    "\n",
    "# 목표 Q network를 구축\n",
    "targetQ, targetQ_outputs = q_network(X, 'targetQ')"
   ]
  },
  {
   "cell_type": "code",
   "execution_count": 11,
   "metadata": {},
   "outputs": [],
   "source": [
    "# action values에 대한 placeholder 정의\n",
    "X_action = tf.placeholder(tf.int32, shape=(None,))\n",
    "Q_action = tf.reduce_sum(targetQ_outputs * tf.one_hot(X_action, n_outputs), axis=-1,keep_dims=True)"
   ]
  },
  {
   "cell_type": "code",
   "execution_count": 12,
   "metadata": {},
   "outputs": [],
   "source": [
    "# 기본 Q 네트워크 매개변수를 대상 Q 네트워크에 복사\n",
    "copy_op = [tf.assign(main_name, targetQ[var_name]) for var_name, main_name in mainQ.items()]\n",
    "copy_target_to_main = tf.group(*copy_op)"
   ]
  },
  {
   "cell_type": "code",
   "execution_count": 13,
   "metadata": {},
   "outputs": [],
   "source": [
    "# gradient descent optimizer를 사용하여 손실 계산 및 최적화\n",
    "\n",
    "# action에 대한 placeholder를 정의\n",
    "y = tf.placeholder(tf.float32, shape=(None,1))\n",
    "\n",
    "# 실제 값과 예측 값의 차이인 손실을 계산\n",
    "loss = tf.reduce_mean(tf.square(y - Q_action))\n",
    "\n",
    "# loss을 최소화하기 위해 adam optimizer를 사용\n",
    "optimizer = tf.train.AdamOptimizer(learning_rate)\n",
    "training_op = optimizer.minimize(loss)\n",
    "\n",
    "init = tf.global_variables_initializer()\n",
    "\n",
    "loss_summary = tf.summary.scalar('Loss', loss)\n",
    "merge_summary = tf.summary.merge_all()\n",
    "file_writer = tf.summary.FileWriter(logdir, tf.get_default_graph())"
   ]
  },
  {
   "cell_type": "code",
   "execution_count": 14,
   "metadata": {},
   "outputs": [
    {
     "data": {
      "image/png": "[encoded data removed]",
      "text/plain": [
       "<matplotlib.figure.Figure at 0x7fffa40cb668>"
      ]
     },
     "metadata": {},
     "output_type": "display_data"
    },
    {
     "name": "stdout",
     "output_type": "stream",
     "text": [
      "Epoch 3082 Reward -13.0\n"
     ]
    },
    {
     "data": {
      "image/png": "[encoded data removed]",
      "text/plain": [
       "<matplotlib.figure.Figure at 0x7fffa40cb668>"
      ]
     },
     "metadata": {},
     "output_type": "display_data"
    }
   ],
   "source": [
    "# tensorflow와 그 안의 모델을 실행\n",
    "with tf.Session() as sess:\n",
    "    init.run()\n",
    "    \n",
    "    # 로그를 기록할 파일 열기\n",
    "    log_file = \"pong_log.txt\"\n",
    "    \n",
    "    #에피소드\n",
    "    for i in range(num_episodes):\n",
    "        done = False\n",
    "        obs = env.reset()\n",
    "        epoch = 0\n",
    "        episodic_reward = 0\n",
    "        actions_counter = Counter()\n",
    "        episodic_loss = []\n",
    "        \n",
    "        plt.imshow(env.render(mode='rgb_array'))\n",
    "        display.clear_output(wait=True)\n",
    "        display.display(plt.gcf())\n",
    "        \n",
    "        #상태가 최종 상태가 아닌 동안\n",
    "        while not done:\n",
    "            # 전처리된 게임 화면 가져오기\n",
    "            obs = preprocess_observation(obs)\n",
    "            \n",
    "            # 게임 화면을 피드하고 각 작업에 대한 Q 값을 가져오기\n",
    "            actions = mainQ_outputs.eval(feed_dict={X:[obs], in_training_mode: False})\n",
    "            \n",
    "            # 행동 가져오기\n",
    "            action = np.argmax(actions, axis =-1)\n",
    "            actions_counter[str(action)] += 1\n",
    "            \n",
    "            #엡실론 그리디 정책을 사용하여 행동 선택\n",
    "            action = epsilon_greedy(action, global_step)\n",
    "            \n",
    "            #행동을 수행하고 다음 상태인 next_obs로 이동하여 보상을 받는다.\n",
    "            next_obs, reward, done, _ = env.step(action)\n",
    "            \n",
    "            #이 전환을 재생 버퍼에 경험으로 저장\n",
    "            exp_buffer.append([obs, action, preprocess_observation(next_obs), reward, done])\n",
    "            \n",
    "            #특정 단계 후에 경험 버퍼의 샘플로 Q 네트워크를 훈련\n",
    "            if global_step % steps_train == 0 and global_step > start_steps:\n",
    "                # 샘플 경험\n",
    "                o_obs, o_act, o_next_obs, o_rew, o_done = sample_memories(batch_size)\n",
    "                \n",
    "                # 상태\n",
    "                o_obs = [x for x in o_obs]\n",
    "                \n",
    "                # 다음 상태\n",
    "                o_next_obs = [x for x in o_next_obs]\n",
    "                \n",
    "                # 다음 행동\n",
    "                next_act = mainQ_outputs.eval(feed_dict={X:o_next_obs, in_training_mode:False})\n",
    "                \n",
    "                # 보상\n",
    "                y_batch = o_rew + discount_factor * np.max(next_act, axis=-1) * (1-o_done)\n",
    "                \n",
    "                # 모든 요약을 병합하고 파일에 쓰기\n",
    "                mrg_summary = merge_summary.eval(feed_dict={X: o_obs, y:np.expand_dims(y_batch, axis=-1), X_action:o_act, in_training_mode:False})\n",
    "                file_writer.add_summary(mrg_summary, global_step)\n",
    "                \n",
    "                # 네트워크 훈련 및 loss 계산\n",
    "                train_loss, _ = sess.run([loss, training_op], feed_dict={X:o_obs, y:np.expand_dims(y_batch, axis=-1), X_action:o_act, in_training_mode: True})\n",
    "                episodic_loss.append(train_loss)\n",
    "                \n",
    "            # 일정 간격 후에 주요 Q 네트워크 가중치를 대상 Q 네트워크에 복사\n",
    "            if (global_step+1)%copy_steps == 0 and global_step > start_steps:\n",
    "                copy_target_to_main.run()\n",
    "                    \n",
    "            obs = next_obs\n",
    "            epoch += 1\n",
    "            global_step += 1\n",
    "            episodic_reward += reward\n",
    "            \n",
    "            # 일정 간격마다 게임 화면 실시간 시각화 (속도 저하를 방지하기 위해 주석처리)\n",
    "            #if epoch % 10 == 0:\n",
    "            #    plt.imshow(env.render(mode='rgb_array'))\n",
    "            #    display.clear_output(wait=True)\n",
    "            #    display.display(plt.gcf())\n",
    "            \n",
    "        # 파일에 로그 기록\n",
    "        with open(log_file, \"a\") as file:\n",
    "            file.write(\"Epoch: \" + str(epoch) + \", Reward: \" + str(episodic_reward))\n",
    "            file.write(\", Loss: \" + str(np.mean(episodic_loss)))\n",
    "            file.write(\", Actions: \" + str(actions_counter) + \"\\n\")\n",
    "        \n",
    "        # 정보 출력\n",
    "        print('Epoch', epoch, 'Reward', episodic_reward)\n",
    "        \n",
    "    # 저장 객체 생성\n",
    "    saver = tf.train.Saver()\n",
    "    \n",
    "    # 모델 저장\n",
    "    saver.save(sess, './pong_model', global_step=global_step)"
   ]
  },
  {
   "cell_type": "code",
   "execution_count": 14,
   "metadata": {},
   "outputs": [
    {
     "data": {
      "image/png": "[encoded data removed]",
      "text/plain": [
       "<matplotlib.figure.Figure at 0x7fffa4927fd0>"
      ]
     },
     "metadata": {},
     "output_type": "display_data"
    },
    {
     "name": "stdout",
     "output_type": "stream",
     "text": [
      "Episode Reward=  -18.0\n"
     ]
    },
    {
     "data": {
      "image/png": "[encoded data removed]",
      "text/plain": [
       "<matplotlib.figure.Figure at 0x7fffa4927fd0>"
      ]
     },
     "metadata": {},
     "output_type": "display_data"
    }
   ],
   "source": [
    "# 학습한 모델을 불러와 게임 진행\n",
    "with tf.Session() as sess:\n",
    "    # 저장 객체 생성\n",
    "    saver = tf.train.Saver()\n",
    "    \n",
    "    # 저장된 모델 로드\n",
    "    saver.restore(sess, './pong_model-831551') \n",
    "\n",
    "    done = False\n",
    "    obs = env.reset()\n",
    "    total_reward = 0\n",
    "\n",
    "    #상태가 최종 상태가 아닌 동안\n",
    "    while not done:\n",
    "\n",
    "        plt.imshow(env.render(mode='rgb_array'))\n",
    "        display.clear_output(wait=True)\n",
    "        display.display(plt.gcf())\n",
    "        obs = preprocess_observation(obs)\n",
    "            \n",
    "        # 게임 화면을 피드하고 각 작업에 대한 Q 값을 가져오기\n",
    "        actions = mainQ_outputs.eval(feed_dict={X:[obs], in_training_mode: False})\n",
    "\n",
    "        # 행동 가져오기\n",
    "        action = np.argmax(actions, axis =-1)\n",
    "\n",
    "        #행동을 수행하고 다음 상태인 next_obs로 이동하여 보상을 받는다.\n",
    "        next_obs, reward, done, _ = env.step(action)\n",
    "        total_reward += reward\n",
    "        obs = next_obs\n",
    "        print(\"Episode Reward= \", total_reward)\n"
   ]
  },
  {
   "cell_type": "code",
   "execution_count": null,
   "metadata": {},
   "outputs": [],
   "source": []
  }
 ],
 "metadata": {
  "kernelspec": {
   "display_name": "Python 3",
   "language": "python",
   "name": "python3"
  },
  "language_info": {
   "codemirror_mode": {
    "name": "ipython",
    "version": 3
   },
   "file_extension": ".py",
   "mimetype": "text/x-python",
   "name": "python",
   "nbconvert_exporter": "python",
   "pygments_lexer": "ipython3",
   "version": "3.5.2"
  }
 },
 "nbformat": 4,
 "nbformat_minor": 5
}
